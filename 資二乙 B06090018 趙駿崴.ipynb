{
 "cells": [
  {
   "cell_type": "markdown",
   "metadata": {},
   "source": [
    "# 第一章"
   ]
  },
  {
   "cell_type": "markdown",
   "metadata": {},
   "source": [
    "# 加法"
   ]
  },
  {
   "cell_type": "code",
   "execution_count": 1,
   "metadata": {},
   "outputs": [
    {
     "data": {
      "text/plain": [
       "8"
      ]
     },
     "execution_count": 1,
     "metadata": {},
     "output_type": "execute_result"
    }
   ],
   "source": [
    "a=3\n",
    "b=5\n",
    "a+b"
   ]
  },
  {
   "cell_type": "markdown",
   "metadata": {},
   "source": [
    "# 網頁擷取程式"
   ]
  },
  {
   "cell_type": "code",
   "execution_count": 6,
   "metadata": {
    "scrolled": true
   },
   "outputs": [
    {
     "name": "stdout",
     "output_type": "stream",
     "text": [
      "ï»¿<!DOCTYPE html>\r\n",
      "<!--\r\n",
      "Template Name:ææ°ç§æå¤§å­¸\r\n",
      "Author: <a href=\"http://www.os-templates.com/\">OS Templates</a>\r\n",
      "Author URI: http://www.os-templates.com/\r\n",
      "Licence: Free to use under our free template licence terms\r\n",
      "Licence URI: http://www.os-templates.com/template-terms\r\n",
      "-->\r\n",
      "<html>\r\n",
      "<head>\r\n",
      "<meta name=\"google-site-verification\" content=\"qyA7Hl8GH4fSuN63aOHw_YOR_OiuioN_OJBIsW0AJTM\" />\r\n",
      "<title>ææ°ç§æå¤§å­¸</title>\r\n",
      "<meta charset=\"utf-8\">\r\n",
      "<meta http-equiv=\"X-UA-Compatible\" content=\"IE=edge,chrome=1\">\r\n",
      "<meta name=\"viewport\" content=\"width=device-width, initial-scale=1.0, maximum-scale=1.0, user-scalable=no\">\r\n",
      "<meta name= \" Accessible_website \" content= \" æ¬ç¶²ç«ééç¬¬(1)åªå",
      "ç­ç´ç¡éç¤ç¶²é æª¢æ¸¬ \" >\r\n",
      "<link href=\"layout/styles/layout.css\" rel=\"stylesheet\" type=\"text/css\" media=\"all\">\r\n",
      "<script type=\"text/javascript\" src=\"layout/scripts/away.js\"></script>\r\n",
      "<script charset=\"UTF-8\" type=\"text/javascript\" src=\"http://webs.must.edu.tw/pagecount/showpage.php?page=must_school&show=no\"></script>\r\n",
      "<style type=text/css> \r\n",
      "<!--\r\n",
      "/*å",
      "¨é¨è¨­å®å­é«*/\r\n",
      " body { font-family: verdana, Times New Roman, å¾®è»æ­£é»é«, æ°ç´°æé«; }\r\n",
      "//-->\r\n",
      "</style>\r\n",
      "<!-- Global site tag (gtag.js) - Google Analytics -->\r\n",
      "<script async src=\"https://www.googletagmanager.com/gtag/js?id=UA-131310035-1\"></script>\r\n",
      "<script>\r\n",
      "  window.dataLayer = window.dataLayer || [];\r\n",
      "  function gtag(){dataLayer.push(arguments);}\r\n",
      "  gtag('js', new Date());\r\n",
      "\r\n",
      "  gtag('config', 'UA-131310035-1');\r\n",
      "</script>\r\n",
      "\r\n",
      "</head>\r\n",
      "<body id=\"top\">\r\n",
      "<!-- ################################################################################################ --> \r\n",
      "<!-- ################################################################################################ --> \r\n",
      "<!-- ################################################################################################ -->\r\n",
      "<div class=\"wrapper row1\">\r\n",
      "\r\n",
      "  <div id=\"topbar\" class=\"clear\"> \r\n",
      "    <!-- ################################################################################################ -->\r\n",
      "    <nav>\r\n",
      "      <ul><a href=\"#_top\" accesskey=\"U\" title=\"ä¸æ¹é¸å®å\">:::</a>\r\n",
      "        <li><a href=\"http://www.must.edu.tw/index.html\">é¦é </a></li>\r\n",
      "\t<li><a href=\"http://webc1.must.edu.tw/jtmust062/index.php/news/mustepaper\">é»å­å ±</a></li>\r\n",
      "        <li><a href=\"http://www.must.edu.tw/about/contact.html\">è¯çµ¡æå</a></li>\r\n",
      "        <li><a href=\"http://fg.must.edu.tw/\">English</a></li>\r\n",
      "        <li><a href=\"mailto://csc@must.edu.tw;president@must.edu.tw;secretariat.must@must.edu.tw;chen083487@must.edu.tw \">æ ¡é·ä¿¡ç®±</a></li>\r\n",
      "        <li><a href=\"mailto://csc@must.edu.tw\">è£äºé·ä¿¡ç®±</a></li>\r\n",
      "\t<li><a href=\"http://www.must.edu.tw/about/webmap.html\">ç¶²ç«å°è¦½</a></li>\r\n",
      "\t<li><a href=\"http://www.must.edu.tw/seach.html\">ç«å",
      "§æå°</a></li>\r\n",
      "      \r\n",
      "      </ul>\r\n",
      "    </nav>\r\n",
      "    <!-- ################################################################################################ --> \r\n",
      "  </div>\r\n",
      "</div>\r\n",
      "<!-- ################################################################################################ --> \r\n",
      "\r\n",
      "<!-- å",
      "¬éåºççµyahooè¡é·ç¨å¼ç¢¼ -->\r\n",
      "<script type=\"application/javascript\">(function(w,d,t,r,u){w[u]=w[u]||[];w[u].push({'projectId':'10001499389408','properties':{'pixelId':'440351'}});var s=d.createElement(t);s.src=r;s.async=true;s.onload=s.onreadystatechange=function(){var y,rs=this.readyState,c=w[u];if(rs&&rs!=\"complete\"&&rs!=\"loaded\"){return}try{y=YAHOO.ywa.I13N.fireBeacon;w[u]=[];w[u].push=function(p){y([p])};y(c)}catch(e){}};var scr=d.getElementsByTagName(t)[0],par=scr.parentNode;par.insertBefore(s,scr)})(window,document,\"script\",\"https://s.yimg.com/wi/ytc.js\",\"dotq\");</script>\r\n",
      "\r\n",
      "<!-- ################################################################################################ --> \r\n",
      "<!-- ################################################################################################ -->\r\n",
      "<div class=\"wrapper row1\">\r\n",
      "  <header id=\"header\" class=\"clear\"> \r\n",
      "    <!-- ################################################################################################ -->\r\n",
      "    <div id=\"logo\" class=\"fl_left\">\r\n",
      "      <a href=\"http://www.must.edu.tw/index.html\" title=\"åé¦é \"><img src=\"images/Q/newlogo-3.png\" alt=\"å­¸æ ¡ç¶²é logoå\"></a>\r\n",
      "      <!--<h1><a href=\"http://www.must.edu.tw/\">ææ°ç§æå¤§å­¸</a></h1> -->\r\n",
      "      <!--<p  style=\"color:#FFFFFF;\">Minghsin University of Science and Technology</p> -->\r\n",
      "    </div>\r\n",
      "    <div class=\"fl_right\">\r\n",
      "\r\n",
      "    <div id=\"headerLink\">\r\n",
      "    <!-- <form class=\"clear\" method=\"post\" action=\"chinese/16_search/search.aspx\" enctype=\"multipart/form-data\">\r\n",
      "        <fieldset>\r\n",
      "          <legend>Search:</legend>\r\n",
      "          <input name=\"searchkey\" type=\"text\" value=\"\" placeholder=\"å",
      "¨ç«æå°\">\r\n",
      "          <button class=\"javascript:fSearch_submit(document.fsearch);\" type=\"submit\" title=\"Search\">\r\n",
      "\t\t  <function Tomaincontent(item) \r\n",
      "{ \r\n",
      "  for (var i=1; i<= maincontent; i++){\r\n",
      "    main_content = document.getElementById(\"main_content_\"+ i);\r\n",
      "\tlabel = document.getElementById(\"label_\"+ i);\r\n",
      "    main_content.style.display = \"none\";\r\n",
      "\tlabel.className = \"home_label\"+i+\"B\"; \r\n",
      "\t//label.style.background = eval(\"d\"+i); \r\n",
      "  }\r\n",
      "    main_content = document.getElementById(\"main_content_\"+ item);\r\n",
      "\tlabel = document.getElementById(\"label_\"+ item);\r\n",
      "    main_content.style.display = \"block\";\r\n",
      "\tlabel.className = \"home_label\"+item; \r\n",
      "\t//label.style.background = eval(\"u\"+item); \r\n",
      "} \r\n",
      "function fSearch_submit(obj){\r\n",
      "\tif(obj.searchkey.value==\"\")\r\n",
      "\t\talert(\"è«è¼¸å",
      "¥ééµå­\");\r\n",
      "\telse\r\n",
      "\t\tobj.submit();}>\r\n",
      "\t\t<img src=\"images/Sh1.png\" alt=\"space\"><em>go</em></button>\r\n",
      "        </fieldset>\r\n",
      "      </form> -->\r\n",
      "\r\n",
      "    </div>\r\n",
      "    <!-- ################################################################################################ --> \r\n",
      "  </header>\r\n",
      "</div>\r\n",
      "<!-- ################################################################################################ --> \r\n",
      "<!-- ################################################################################################ --> \r\n",
      "<!-- ################################################################################################ -->\r\n",
      "<div class=\"wrapper row2\">\r\n",
      "\r\n",
      "  <div class=\"rounded\">\r\n",
      "    <nav id=\"mainav\" class=\"clear\"> \r\n",
      "      <!-- ################################################################################################ -->\r\n",
      "      <ul class=\"clear\">\r\n",
      "<a href=\"#_menu\" accesskey=\"M\" title=\"æ©«ååè½é£çµå-ææè¯çµçä»¥å¦éè¦çªçºä¸»\">:::</a>\r\n",
      "        <li class=\"active\"><a href=\"http://www.must.edu.tw/index.html\">é¦é </a></li>\r\n",
      "        <li><a class=\"drop\" href=\"http://www.must.edu.tw/about/aboutmust.html\">éæ¼ææ°</a>\r\n",
      "          <ul>\r\n",
      "            <li><a href=\"about/about-4.html \" target=\"_blank\">æ ¡å²</a></li>\r\n",
      "            <li><a href=\"about/about-2.html \" target=\"_blank\">æ ¡è¨</a></li>\r\n",
      "            <li onclick=\"ga('send', 'event', 'é¦é ', 'click','æ ¡æ­');\"><a href=\"about/about-3.html \" target=\"_blank\">æ ¡æ­</a></li>\r\n",
      "            <li><a href=\"about/about-16.html\" target=\"_blank\">åµæ ¡å",
      "è</a></li>\r\n",
      "            <li><a href=\"http://webc1.must.edu.tw/mustj001\" target=\"_blank\">è£äºæ</a></li>\r\n",
      "            <li><a href=\"http://webc2.must.edu.tw/jtmust002/\" target=\"_blank\">æ ¡é·</a></li>\r\n",
      "            <li><a href=\"http://www.must.edu.tw/ochart/1070411.pdf\" target=\"_blank\" title=\"æ¬æ ¡çµç¹ä»¥æ ¡é·é å°4é¢1ä¸­å¿è16åä¸ç´å®ä½å",
      "±åæ¨åææ°æ ¡åï¼è©³ç´°çµç¹çµæè«åèè¡æ¿å®ä½èå­¸è¡å®ä½ä¹é é¢\">å­¸æ ¡çµç¹ç³»çµ±å(PDFæ ¼å¼)</a></li>\r\n",
      "            <li><a href=\"about/about-7.html\" target=\"_blank\">æ²»æ ¡çå¿µ</a></li>\r\n",
      "            <li><a href=\"http://www.must.edu.tw/about/mustmap.html\" target=\"_blank\">å¦ä½å°ææ°</a></li>\r\n",
      "\t    <li><a href=\"http://webc1.must.edu.tw/jtmust073/index.php/2017-01-20-03-50-06/2017-01-23-06-53-36\" target=\"_blank\">æ ¡å",
      "§å¹³é¢å</a></li>\r\n",
      "            <li><a href=\"about/about-9.html\" target=\"_blank\">æ ¡åç¼å±éé»</a></li>\r\n",
      "            <li><a href=\"about/about-18.html\" target=\"_blank\">å­¸æ ¡å®ä½ãä½¿å½ãé¡æ¯åç¼å±ç®æ¨</a></li>\r\n",
      "          </ul>\r\n",
      "        </li>\r\n",
      "      <li><a class=\"drop\" href=\"http://www.must.edu.tw/about/acade.html\">å­¸è¡å®ä½</a>\r\n",
      "          <ul>\r\n",
      "            \r\n",
      "            <li><a class=\"drop\" href=\"http://webc1.must.edu.tw/jtmust058\" target=\"_blank\">å·¥å­¸é¢</a><ul>\r\n",
      "                <li><a href=\"http://meu.must.edu.tw/index.html\" target=\"_blank\">æ©æ¢°å·¥ç¨ç³»(å­¸å£«ç­)æ¨ç²¾å¯æ©é»å·¥ç¨ç ç©¶æ(ç¢©å£«ç­)</a></li>\r\n",
      "                <li><a href=\"http://webc2.must.edu.tw/jtmust005\" target=\"_blank\">é»æ©å·¥ç¨ç³»(å­¸å£«ç­ãç¢©å£«ç­)</a></li>\r\n",
      "                <li><a href=\"http://eed.must.edu.tw/\" target=\"_blank\">é»å­å·¥ç¨ç³»(å­¸å£«ç­ãç¢©å£«ç­)</a></li>\r\n",
      "                <li><a href=\"http://webc2.must.edu.tw/jtmust012\" target=\"_blank\">å",
      "é»ç³»çµ±å·¥ç¨ç³»(å­¸å£«ç­ãç¢©å£«ç­)</a></li>\r\n",
      "                <li><a href=\"http://webc1.must.edu.tw/jtmust074\" target=\"_blank\">è³è¨å·¥ç¨ç³»(å­¸å£«ç­)</a></li>\r\n",
      "                <li><a href=\"http://webc2.must.edu.tw/jtmust020/\" target=\"_blank\">åå­¸å·¥ç¨èææç§æç³»(å­¸å£«ç­ãç¢©å£«ç­)</a></li>\r\n",
      "                <li><a href=\"http://webc2.must.edu.tw/jtmust004/\" target=\"_blank\">åæ¨å·¥ç¨èç°å¢è³æºç®¡çç³»(å­¸å£«ç­ãç¢©å£«ç­)</a></li>\r\n",
      "                <li><a href=\"http://webc1.must.edu.tw/jtmust048/\" target=\"_blank\">åå¦åæç¨å­¸å£«å­¸ä½å­¸ç¨</a></li>\r\n",
      "              </ul>\r\n",
      "            </li>\r\n",
      "            \r\n",
      "            <li><a class=\"drop\" href=\"http://webc2.must.edu.tw/jtmust015\" target=\"_blank\">ç®¡çå­¸é¢</a><ul>\r\n",
      "                <li><a href=\"http://webc2.must.edu.tw/jtmust028\" target=\"_blank\">å·¥æ¥­å·¥ç¨èç®¡çç³»(å­¸å£«ç­ãç¢©å£«ç­)</a></li>\r\n",
      "                <li><a href=\"http://www.im.must.edu.tw/im/\" target=\"_blank\">è³è¨ç®¡çç³»(å­¸å£«ç­ãç¢©å£«ç­)</a></li>\r\n",
      "                <li><a href=\"http://webc2.must.edu.tw/jtmust006\" target=\"_blank\">ä¼æ¥­ç®¡çç³»(å­¸å£«ç­)</a></li>\r\n",
      "                <li><a href=\"http://webc2.must.edu.tw/jtmust021\" target=\"_blank\">è²¡åéèç³»(å­¸å£«ç­)</a></li>\r\n",
      "                <li><a href=\"http://webc2.must.edu.tw/jtmust022\" target=\"_blank\">ç®¡çç ç©¶æ(ç¢©å£«ç­)</a></li>\r\n",
      "                <li><a href=\"http://webc2.must.edu.tw/jtmust018\" target=\"_blank\">è¡é·èæµéç®¡çç³»(å­¸å£«ç­)</a></li>\r\n",
      "                <li><a href=\"http://webc2.must.edu.tw/jtmust013/\" target=\"_blank\">å",
      "¨çéç±ç®¡çä¸­å¿</a></li>\r\n",
      "                <li><a href=\"http://webc1.must.edu.tw/jtmust079\" target=\"_blank\">åµæ¥­èè¡é·å­¸å£«å­¸ä½å­¸ç¨</a></li>\r\n",
      "                <li><a href=\"http://www.im.must.edu.tw/cloud/\" target=\"_blank\">é²ç«¯ç§æèååæç¨å­¸å£«å­¸ä½å­¸ç¨</a></li>\r\n",
      "              </ul>\r\n",
      "            </li>\r\n",
      "            \r\n",
      "            <li><a class=\"drop\" href=\"http://webc1.must.edu.tw/jtmust043\" target=\"_blank\">æåç¢æ¥­å­¸é¢</a><ul>\r\n",
      "                <li><a href=\"http://webc2.must.edu.tw/jtmust019\" target=\"_blank\">æ",
      "é¤¨äºæ¥­ç®¡çç³»(å­¸å£«ç­)</a></li>\r\n",
      "                <li><a href=\"http://child.must.edu.tw/\" target=\"_blank\">å¹¼å",
      "ä¿è²ç³»(å­¸å£«ç­)</a></li>\r\n",
      "                <li><a href=\"http://webc2.must.edu.tw/jtmust101\" target=\"_blank\">ä¼éäºæ¥­ç®¡çç³»(å­¸å£«ç­)</a></li>\r\n",
      "                <li><a href=\"http://webc2.must.edu.tw/jtmust010/\" target=\"_blank\">èäººæåäºæ¥­ç®¡çç³»(å­¸å£«ç­)</a></li>\r\n",
      "                <li><a href=\"http://webc1.must.edu.tw/jtmust044\" target=\"_blank\">æåç¢æ¥­æ¨ç®¡çç ç©¶æ(ç¢©å£«ç­)</a></li>\r\n",
      "                <li><a href=\"http://webc2.must.edu.tw/jtmust011\"  target=\"_blank\">å¸«è³å¹è²ä¸­å¿</a></li>\r\n",
      "                <li><a href=\"https://www.must.edu.tw/chinese/11_subsite_science/index.aspx?UnitID=30504\" target=\"_blank\">æåè§å",
      "ç¢æ¥­å­¸å£«å­¸ä½å­¸ç¨</a></li>\r\n",
      "              </ul>\r\n",
      "            </li>\r\n",
      "            \r\n",
      "           <li><a class=\"drop\" href=\"http://webc2.must.edu.tw/jtmust003\" target=\"_blank\">äººæç¤¾æå­¸é¢</a><ul>\r\n",
      "                <li><a href=\"http://webc1.must.edu.tw/jtmust067/\" target=\"_blank\" >æç¨å¤èªç³»(å­¸å£«ç­)</a></li>\r\n",
      "                <li><a href=\"http://webc1.must.edu.tw/mustj004\"  target=\"_blank\">éåç®¡çç³»(å­¸å£«ç­)</a></li>\r\n",
      "                <li><a href=\"http://webc2.must.edu.tw/jtmust008\" target=\"_blank\">èæä¸­å¿</a></li>\r\n",
      "\t\t<li><a href=\"http://webc1.must.edu.tw/jtmust041 \" target=\"_blank\">è¯èªææå­¸ä¸­å¿</a></li>\r\n",
      "\t\t<li><a href=\"http://webc1.must.edu.tw/mustj006\" target=\"_blank\" >å¤å",
      "æç¾¤æåç ç©¶ä¸­å¿</a></li>\r\n",
      "\t\t<li><a href=\"http://webc2.must.edu.tw/jtmust102/\" target=\"_blank\" >å¤åªé«èéæ²ç¼å±ç³»</a></li>\r\n",
      "\r\n",
      "              \r\n",
      "\r\n",
      "              </ul>\r\n",
      "            </li>\r\n",
      "            \r\n",
      "             <li><a class=\"drop\" href=\"http://webc2.must.edu.tw/jtmust014\" target=\"_blank\">éè­æè²ä¸­å¿</a><ul>\r\n",
      "                <li><a href=\"http://webc1.must.edu.tw/jtmust081\"  target=\"_blank\">äººæèè¡æå­¸ä¸­å¿</a></li>\r\n",
      "                <li><a href=\"http://webc1.must.edu.tw/jtmust082\"  target=\"_blank\">ç¤¾æç§å­¸æå­¸ä¸­å¿</a></li>\r\n",
      "                <li><a href=\"http://webc1.must.edu.tw/jtmust083\" target=\"_blank\">èªç¶ç§å­¸æå­¸ä¸­å¿</a></li>\r\n",
      "               <li><a href=\"http://webc1.must.edu.tw/jtmust084\" target=\"_blank\" >èªè¨æå­¸ä¸­å¿</a></li>\r\n",
      "              </ul>\r\n",
      "            </li>\r\n",
      "            \r\n",
      "           <li><a class=\"drop\" href=\"#\">å",
      "¶ä»å®ä½</a> <ul>\r\n",
      "                \r\n",
      "                <li><a href=\"https://www.must.edu.tw/chinese/11_subsite_science/index.aspx?UnitID=Z0033\"  target=\"_blank\">ææ°ç§å¤§æå¸«æ</a></li>\r\n",
      "              </ul>\r\n",
      "            </li> \r\n",
      "            \r\n",
      "          </ul>\r\n",
      "        </li>\r\n",
      "        \r\n",
      "        \r\n",
      "           <li><a class=\"drop\" href=\"http://www.must.edu.tw/about/admin.html\" target=\"_blank\">è¡æ¿å®ä½</a>\r\n",
      "               <ul>\r\n",
      "                <li><a href=\"http://webc1.must.edu.tw/mustj002\"  target=\"_blank\">ç¨½æ ¸å®¤</a></li>\r\n",
      "\r\n",
      "            <li><a class=\"drop\" href=\"http://webc2.must.edu.tw/jtmust024\"  target=\"_blank\">ç§æ¸å®¤</a><ul>\r\n",
      "                \r\n",
      "                <!--<li><a href=\"http://webc1.must.edu.tw/jtmust062\" target=\"_blank\">å",
      "¬éåºççµ</a></li>-->\r\n",
      "                <li><a href=\"http://webc1.must.edu.tw/jtmust060 \" target=\"_blank\">æ ¡åæåä¸­å¿</a></li>\r\n",
      "                \r\n",
      "                <!--<li><a href=\"http://admin.must.edu.tw/index.aspx?UnitID=20208\" target=\"_blank\">å",
      "©å²¸äº¤æµä¸­å¿</a></li>-->\r\n",
      "\t\t<!--<li><a href=\"http://admin.must.edu.tw/index.aspx?UnitID=20202\" target=\"_blank\">åéäº¤æµä¸­å¿</a></li>-->\t\t\r\n",
      "              </ul>\r\n",
      "            </li>\r\n",
      "\t\t\t\r\n",
      "\t\t\t<li><a href=\"http://webc1.must.edu.tw/jtmust062\" target=\"_blank\">å",
      "¬å",
      "±éä¿äºæ¥­å®¤</a></li>\r\n",
      "\t\t\t\r\n",
      "            <li><a href=\"http://webc1.must.edu.tw/jtmust077\" target=\"_blank\">æ ¡åç ç©¶è¾¦å",
      "¬å®¤</a></li>\r\n",
      "            \r\n",
      "            <li><a class=\"drop\" href=\"http://webc1.must.edu.tw/jtmust056 \" target=\"_blank\">åéæ¨å",
      "©å²¸äºåè</a><ul>\r\n",
      "                <li><a href=\"http://webc2.must.edu.tw/jtmust033\" target=\"_blank\">åéæè²èäº¤æµä¸­å¿</a></li>\r\n",
      "                <li><a href=\"http://webc2.must.edu.tw/jtmust032\" target=\"_blank\">å",
      "©å²¸æè²èäº¤æµä¸­å¿</a></li>\r\n",
      "                <!--<li><a href=\"http://webc2.must.edu.tw/jtmust027 \" target=\"_blank\">åæ¸¯æ¾³æè²èäº¤æµä¸­å¿</a></li>-->\r\n",
      "                <li><a href=\"http://webc2.must.edu.tw/jtmust031\" target=\"_blank\">å¢å¤çè¼å°èæåä¸­å¿</a></li>\r\n",
      "                \r\n",
      "              </ul>\r\n",
      "            </li>\r\n",
      "\r\n",
      "             <li><a class=\"drop\" href=\"http://webc1.must.edu.tw/jtmust066/\" target=\"_blank\">æåè</a><ul>\r\n",
      "                <li><a href=\"http://webc1.must.edu.tw/jtmust057\" target=\"_blank\">ç¶åæ¥­åçµ</a></li>\r\n",
      "                <li><a href=\"http://webc2.must.edu.tw/jtmust029\" target=\"_blank\">èª²åçµ</a></li>\r\n",
      "                <li><a href=\"http://webc2.must.edu.tw/jtmust026\" target=\"_blank\">è¨»åçµ</a></li>\r\n",
      "                <li><a href=\"http://webc2.must.edu.tw/jtmust025\" target=\"_blank\">æå­¸ç¼å±ä¸­å¿</a></li>\r\n",
      "              </ul>\r\n",
      "            </li>\r\n",
      "            \r\n",
      "             <li><a class=\"drop\" href=\"http://webc1.must.edu.tw/jtmust064\" target=\"_blank\">å­¸çäºåè</a><ul>\r\n",
      "                <li><a href=\"http://webc2.must.edu.tw/jtmust037\" target=\"_blank\">çæ´»è¼å°çµ</a></li>\r\n",
      "                <li><a href=\"http://webc1.must.edu.tw/jtmust063\" target=\"_blank\">èª²å¤æ´»åæå°çµ</a></li>\r\n",
      "                <li><a href=\"http://webc1.must.edu.tw/jtmust053\" target=\"_blank\">è¡çä¿å¥çµ</a></li>\r\n",
      "                <li><a href=\"http://webc1.must.edu.tw/jtmust055\" target=\"_blank\">é«è²å®¤</a></li>\r\n",
      "                <li><a href=\"http://webc1.must.edu.tw/jtmust070\" target=\"_blank\">ä½å®¿æåçµ</a></li>\r\n",
      "                <li><a href=\"http://webc1.must.edu.tw/jtmust042\" target=\"_blank\">æåå­¸ç¿ä¸­å¿</a></li>\r\n",
      "                <li><a href=\"http://webc1.must.edu.tw/jtmust069\" target=\"_blank\">è«®åè¼å°æ¨è·æ¶¯ç¼å±ä¸­å¿</a></li>\r\n",
      "                <li><a href=\"http://webc2.must.edu.tw/jtmust030\" target=\"_blank\">è«®åè¼å°æ¨è·æ¶¯ç¼å±ä¸­å¿[è³æºæå®¤]</a></li>\r\n",
      "              </ul>\r\n",
      "            </li>\r\n",
      "            \r\n",
      "            \r\n",
      "             <li><a class=\"drop\" href=\"http://webc1.must.edu.tw/jtmust072\" target=\"_blank\">ç¸½åè</a><ul>\r\n",
      "                <li><a href=\"http://webc1.must.edu.tw/jtmust065\" target=\"_blank\">ä¿ç®¡çµ</a></li>\r\n",
      "                <li><a href=\"http://webc1.must.edu.tw/jtmust073\" target=\"_blank\">äºåçµ</a></li>\r\n",
      "                <li><a href=\"http://webc1.must.edu.tw/jtmust052\" target=\"_blank\">çç¹çµ</a></li>\r\n",
      "                <li><a href=\"http://webc1.must.edu.tw/jtmust050\" target=\"_blank\">æ¡è³¼çµ</a></li>\r\n",
      "                <li><a href=\"http://webc1.must.edu.tw/jtmust075\" target=\"_blank\">ææ¸çµ</a></li>\r\n",
      "                <li><a href=\"http://webc1.must.edu.tw/jtmust049\" target=\"_blank\">åºç´çµ</a></li>\r\n",
      "              </ul>\r\n",
      "            </li>\r\n",
      "            \r\n",
      "             <li><a class=\"drop\" href=\"http://webc1.must.edu.tw/jtmust045\" target=\"_blank\">ç ç©¶ç¼å±è</a><ul>\r\n",
      "                <li><a href=\"http://webc2.must.edu.tw/jtmust035\" target=\"_blank\">ç ç©¶èæè¡æ¨åä¸­å¿</a></li>\r\n",
      "                <li><a href=\"http://webc1.must.edu.tw/jtmust054\" target=\"_blank\">æ ¡åä¼åçµ</a></li>\r\n",
      "                <li><a href=\"http://webc1.must.edu.tw/jtmust046 \" target=\"_blank\">ç¢å­¸åæè¡ç§»è½ä¸­å¿</a></li>\r\n",
      "                <li><a href=\"http://webc1.must.edu.tw/jtmust047\" target=\"_blank\">åµæ°è²æä¸­å¿</a></li>\r\n",
      "              </ul>\r\n",
      "            </li>\r\n",
      "            \r\n",
      "            \r\n",
      "             <li><a  href=\"http://www.lib.must.edu.tw/\" target=\"_blank\">åæ¸é¤¨</a>\r\n",
      "             \r\n",
      "                <!-- <li><a class=\"drop\" href=\"http://www.lib.must.edu.tw/\" target=\"_blank\">åæ¸é¤¨</a><ul>\r\n",
      "                <li><a href=\"http://admin.must.edu.tw/index.aspx?UnitID=20602\" target=\"_blank\">æ¡è¨ªç·¨ç®çµ</a></li>\r\n",
      "                <li><a href=\"http://admin.must.edu.tw/index.aspx?UnitID=20603\" target=\"_blank\">è®è",
      "æåçµ</a></li>\r\n",
      "                <li><a href=\"http://admin.must.edu.tw/index.aspx?UnitID=20604\" target=\"_blank\">ç³»çµ±è³è¨çµ</a></li> </ul> -->\r\n",
      "            </li>\r\n",
      "            \r\n",
      "              <li><a href=\"http://webc2.must.edu.tw/jtmust001/\" target=\"_blank\">è³è¨è</a></li>\r\n",
      "             <!-- \r\n",
      "                <li><a class=\"drop\" href=\"http://admin.must.edu.tw/index.aspx?UnitID=20701\" target=\"_blank\">è³è¨è</a><ul>\r\n",
      "                <li><a href=\"http://admin.must.edu.tw/index.aspx?UnitID=20703\" target=\"_blank\">æ ¡åè»é«çµ</a></li>\r\n",
      "                <li><a href=\"http://admin.must.edu.tw/index.aspx?UnitID=20704\" target=\"_blank\">ç¶²è·¯æåçµ</a></li>\r\n",
      "                <li><a href=\"http://admin.must.edu.tw/index.aspx?UnitID=20705\" target=\"_blank\">æå­¸æ¯æ´çµ</a></li> </ul>\r\n",
      "            </li> -->\r\n",
      "            \r\n",
      "            <li><a href=\"http://webc1.must.edu.tw/jtmust059\" target=\"_blank\">æè¨å®¤</a></li>\r\n",
      "\r\n",
      "            <li><a href=\"http://webc1.must.edu.tw/mustj007\" target=\"_blank\">äººäºå®¤</a></li>\r\n",
      "            \r\n",
      "             <li><a class=\"drop\" href=\"http://webc2.must.edu.tw/jtmust040/\" target=\"_blank\">é²ä¿®æ¨å»£é¨</a><ul>\r\n",
      "                <li><a href=\"http://webc2.must.edu.tw/jtmust034\" target=\"_blank\">é²ä¿®æ¨å»£é¨è¨»åçµ</a></li>\r\n",
      "                <li><a href=\"http://webc2.must.edu.tw/jtmust039\" target=\"_blank\">é²ä¿®æ¨å»£é¨èª²åçµ</a></li>\r\n",
      "                <li><a href=\"http://webc2.must.edu.tw/jtmust036\" target=\"_blank\">é²ä¿®æ¨å»£é¨å­¸çäºåçµ</a></li>\r\n",
      "                <li><a href=\"http://webc2.must.edu.tw/jtmust023\" target=\"_blank\">é²ä¿®æ¨å»£é¨ç¸½åçµ</a></li>\r\n",
      "                <li><a href=\"http://eec.must.edu.tw\" target=\"_blank\">æ¨å»£æè²ä¸­å¿</a></li>\r\n",
      "              </ul>\r\n",
      "            </li>\r\n",
      "            \r\n",
      "            <li><a  href=\"http://webc2.must.edu.tw/jtmust038\" target=\"_blank\">é²ä¿®å­¸é¢æ¨å°ç§é²ä¿®å­¸æ ¡</a>\r\n",
      "\r\n",
      "         <!--    <li><a class=\"drop\" href=\"http://admin.must.edu.tw/index.aspx?UnitID=21301\" target=\"_blank\">é²ä¿®å­¸é¢æ¨å°ç§é²ä¿®å­¸æ ¡</a><ul>\r\n",
      "                <li><a href=\"http://webc2.must.edu.tw/jtmust038\" target=\"_blank\">é²ä¿®å­¸é¢æ¨å°ç§é²ä¿®å­¸æ ¡æåçµ</a></li>\r\n",
      "                <li><a href=\"http://webc2.must.edu.tw/jtmust036\" target=\"_blank\">é²ä¿®å­¸é¢æ¨å°ç§é²ä¿®å­¸æ ¡äºåçµ</a></li>\r\n",
      "                <li><a href=\"http://webc2.must.edu.tw/jtmust023\" target=\"_blank\">é²ä¿®å­¸é¢æ¨å°ç§é²ä¿®å­¸æ ¡ç¸½åçµ</a></li>                \r\n",
      "              </ul>-->\r\n",
      "            </li>\r\n",
      "            \r\n",
      "            <li><a href=\"https://www.must.edu.tw/chinese/11_subsite_science/index.aspx?UnitID=20801\" target=\"_blank\">æ³è¦åæä»¶ç®¡å¶ä¸­å¿</a></li>\r\n",
      "\t\t\t\r\n",
      "            <li><a class=\"drop\" href=\"http://webc1.must.edu.tw/jtmust068\" target=\"_blank\">è»è¨å®¤</a>\r\n",
      "\t\t\t<ul>\r\n",
      "\t\t\t<li><a href=\"http://webc1.must.edu.tw/jtmust061\" target=\"_blank\">æ ¡å®ä¸­å¿</a></li>\r\n",
      "            </ul></li>\r\n",
      "\t\t\t\r\n",
      "            <li><a href=\"http://webc1.must.edu.tw/jtmust051/\" target=\"_blank\">ç°å¢å®å",
      "¨è¡çä¸­å¿</a>\r\n",
      "            </li>\r\n",
      "            \r\n",
      "                <li><a class=\"drop\" href=\"#\" target=\"_blank\">å",
      "¶ä»å®ä½</a><ul>\r\n",
      "                <li><a href=\"http://webs.must.edu.tw/ocmust004/\" target=\"_blank\">åäººè³æä¿è­·å°å</a></li>\r\n",
      "                <li><a href=\"http://webs.must.edu.tw/ocmust004/\" target=\"_blank\">æºè²¡æ¬å°å</a></li>\r\n",
      "                <li><a href=\"https://www.must.edu.tw/chinese/10_subsite_admin/index.aspx?UnitID=Z0032\" target=\"_blank\">ç¢å­¸ç ç¼ç¶²ç«</a></li>\r\n",
      "                <li><a href=\"https://www.must.edu.tw/chinese/10_subsite_admin/index.aspx?UnitID=Z0001\" target=\"_blank\">æ§å¥å¹³ç­æè²è³è¨ç¶²</a></li>\r\n",
      "                \r\n",
      "                <li><a href=\"https://www.must.edu.tw/chinese/10_subsite_admin/index.aspx?UnitID=Z0010\" target=\"_blank\">ææ°å­¸å ±</a></li>\r\n",
      "                <li><a href=\"https://www.must.edu.tw/chinese/10_subsite_admin/index.aspx?UnitID=Z0024\" target=\"_blank\">æ°ç«¹åç­ç¥è¯çè¨ç«ç¶²ç«</a></li>\r\n",
      "                <li><a href=\"https://www.must.edu.tw/chinese/11_subsite_science/index.aspx?UnitID=Z0002\" target=\"_blank\">é»å­ç³»ç³»åæ</a></li>\r\n",
      "                <li><a href=\"http://webs.must.edu.tw/ocmust002\" target=\"_blank\">æ°ç«¹ç¸£ååå±",
      "å®¶æè²æåä¸­å¿(åç¤¾åä¿æ¯ç³»çµ±)</a></li>\r\n",
      "              </ul>\r\n",
      "            </li>            \r\n",
      "          </ul>\r\n",
      "        </li>\r\n",
      "        \r\n",
      "        <li><a class=\"drop\" href=\"http://www.must.edu.tw/about/admissions.html\">æç</a>\r\n",
      "        <ul>\r\n",
      "\t\t\t<li><a class=\"drop\"  target=\"_blank\">ç ç©¶ææç</a><ul>\r\n",
      "                \t\t<li><a href=\"http://webs.must.edu.tw/ocmust113/\" target=\"_blank\">ç¢©å£«ç­çè©¦å",
      "¥å­¸</a></li>\r\n",
      "\t\t\t\t<li><a href=\"http://webs.must.edu.tw/ocmust114/\" target=\"_blank\">ç¢©å£«ç­æ¨ç¢©å£«å¨è·å°ç­æç</a></li></ul></li>            \r\n",
      "            \t\t<li><a class=\"drop\" target=\"_blank\">æ¥éé¨æç</a><ul>\r\n",
      "               \t\t\t<li><a href=\"http://webs.must.edu.tw/ocmust108/\" target=\"_blank\">é«ä¸­ç³è«å",
      "¥å­¸</a></li>\r\n",
      "\t\t\t\t<li><a href=\"http://webs.must.edu.tw/ocmust109/\" target=\"_blank\">éåç¸¾åªå®ç¨æç</a></li>\r\n",
      "\t\t\t\t<li><a href=\"http://webs.must.edu.tw/ocmust110/\" target=\"_blank\">ç¹æ®é¸æ</a></li>\r\n",
      "\t\t\t\t<li><a href=\"http://webs.must.edu.tw/ocmust111/\" target=\"_blank\">æåªçå¯©å",
      "¥å­¸</a></li>\r\n",
      "\t\t\t\t<li><a href=\"http://webs.must.edu.tw/ocmust105/\" target=\"_blank\">çé¸å",
      "¥å­¸</a></li>\r\n",
      "\t\t\t\t<li><a href=\"http://webs.must.edu.tw/ocmust106/\" target=\"_blank\">è¯åç»è¨åç¼</a></li>\r\n",
      "\t\t\t\t<li><a href=\"http://webs.must.edu.tw/ocmust112/\" target=\"_blank\">èº«å¿éç¤å­¸ççè©¦å",
      "¥å­¸</a></li></ul></li>\r\n",
      "            \t\t<li><a href=\"http://webs.must.edu.tw/ocmust101/\" target=\"_blank\">é²ä¿®é¨æç</a></li>\r\n",
      "\t\t\t<li><a href=\"http://webs.must.edu.tw/ocmust102/\" target=\"_blank\">åç­äºè¼ªæçå°å/ç¢å­¸ææè¨ç«</a></li>\r\n",
      "            \t\t<li><a href=\"http://fg.must.edu.tw/\" target=\"_blank\">å¤åå­¸çæç</a></li>\r\n",
      "\t\t\t<li><a href=\"http://webs.must.edu.tw/ocmust104/\" target=\"_blank\">è½å­¸çæç</a></li>\t        \r\n",
      "        </ul>\r\n",
      "\t\t</li>        \r\n",
      "        \r\n",
      "        <li><a class=\"drop\" href=\"http://www.must.edu.tw/about/servies.html\" target=\"_blank\">ç·ä¸æå</a>\r\n",
      "         <ul>\r\n",
      "            <li><a href=\"http://www.must.edu.tw/about/qa.html\" target=\"_blank\">å¸¸è¦åç­</a></li>\r\n",
      "            <li><a class=\"drop\" href=\"#\">æåç³»çµ±</a>\r\n",
      "             <ul>\r\n",
      "                <li><a href=\"http://sss.must.edu.tw/std_service.html\" target=\"_blank\">å­¸çå°å</a></li>\r\n",
      "                <li><a href=\"http://sss.must.edu.tw/teach_service.html\" target=\"_blank\">æè·å¡å°å</a></li>\r\n",
      "               <!-- <li><a href=\"http://sss.must.edu.tw/chief_service.html\" target=\"_blank\">è¡æ¿ä¸»ç®¡å°å</a></li>\r\n",
      "                <li><a href=\"http://sss.must.edu.tw/stuff_service.html\" target=\"_blank\">è¡æ¿äººå¡å°å</a></li> -->\r\n",
      "                </ul></li>\r\n",
      "                \r\n",
      "             <li><a class=\"drop\" href=\"http://www.must.edu.tw/about/download.html\">æªæ¡ä¸è¼</a>\r\n",
      "             <ul>\r\n",
      "                <li><a href=\"http://ftp.must.edu.tw/ftp/free/form/index.htm\" target=\"_blank\">å¸¸ç¨è¡¨æ ¼(éæ ¡å",
      "§é£ç·)</a></li>\r\n",
      "                <li><a href=\"http://www.must.edu.tw/about/download.html\" target=\"_blank\">æ ¡å¾½/å°å/ç³»çµ±çµç¹å</a></li>\r\n",
      "                <li><a href=\"http://www.must.edu.tw/chinese/MUST-ISMS-D-022.PDF\" target=\"_blank\">è³è¨æåç³è«å®(PDFæ ¼å¼)</a></li>\r\n",
      "\t\t</ul></li>\r\n",
      "              \r\n",
      "            <li><a href=\"mailto://vanjj@must.edu.tw\" target=\"_blank\">ç¶²ç«åé¡åæ </a></li>\r\n",
      "\t    <li><a href=\"mailto://csc@must.edu.tw;president@must.edu.tw;secretariat.must@must.edu.tw;chen083487@must.edu.tw \">æ ¡é·ä¿¡ç®±</a></li>\r\n",
      "            <li><a href=\"mailto://csc@must.edu.tw\">è£äºé·ä¿¡ç®±</a></li>  \r\n",
      "            <li><a href=\"http://www.must.edu.tw/about/calendar.html\" target=\"_blank\">æ ¡åè¡äºæ</a></li>    \r\n",
      "              </ul>  </li>\r\n",
      "\t  \r\n",
      "            <li><a  href=\"http://webs.must.edu.tw/jtmust060\" target=\"_blank\">å¼±å¢å©å­¸å¸å</a></li>\r\n",
      " \r\n",
      "      </ul>\r\n",
      "      <!-- ################################################################################################ --> \r\n",
      "    </nav>\r\n",
      "  </div>\r\n",
      "</div>\r\n",
      "<!-- ################################################################################################ --> \r\n",
      "<!-- ################################################################################################ --> \r\n",
      "<!-- ################################################################################################ -->\r\n",
      "                                                                                                                                                                                                                                                                                                                                                                                                                                                                                                                                                                                                                                                                                                                                                                                                                                                                                                                                                                                                                                                                                                                                                                                                                                                                                                                                                                                                                                                                                                                                                                                                                                                                                                                                                                                                                                                                                                                                                                                                                                                                                                                                                                                                                                                                                                                                                                                                                                                                                                                                                                                                                                                                                                                                                                                                                                                                                                                                                                                                                                                                                                                                                                                                                                                                     \r\n",
      "<!-- ################################################################################################ -->\r\n",
      "<div class=\"wrapper row3\">\r\n",
      "  <div class=\"rounded\">\r\n",
      "  <a href=\"#_center\" accesskey=\"C\" title=\"ä¸»è¦å",
      "§å®¹åå¡\">:::ä¸»è¦å",
      "§å®¹</a>\r\n",
      "    <main class=\"container clear\"> \r\n",
      "\t\r\n",
      "      <!-- main body --> \r\n",
      "      <!-- ################################################################################################ -->\r\n",
      "      <div class=\"group btmspace-30\" > \r\n",
      "      <a href=\"https://www.must.edu.tw/about/admissions.html\"><img src=\"about/images/1080214.jpg\"> </a>\r\n",
      "      </div>\r\n",
      "      <!-- / main body -->\r\n",
      "      <div class=\"clear\"></div>\r\n",
      "    </main>\r\n",
      "  </div>\r\n",
      "</div>\r\n",
      "<!-- ################################################################################################ --> \r\n",
      "<!-- ################################################################################################ --> \r\n",
      "<!-- ################################################################################################ -->\r\n",
      "<div class=\"wrapper row4\">\r\n",
      "  <div class=\"rounded\">\r\n",
      "    <footer id=\"footer\" class=\"clear\"> \r\n",
      "      <!-- ################################################################################################ -->\r\n",
      "      <div class=\"one_third first\">\r\n",
      "        <figure class=\"center\">\r\n",
      "        <iframe title=\"MUST Map-æ¬æ ¡ä½æ¼æ°ç«¹ç¸£æ°è±éæ°èè·¯ä¸èãä½æ¼ç«¹åå¾æ¹å£æ¹å1èçéå·¦å´èåº·æ¨è·¯äº¤åè·¯å£ã\" name='map' src=\"https://www.google.com/maps/embed?pb=!1m18!1m12!1m3!1d3619.999953283614!2d120.98902801500292!3d24.863851184052347!2m3!1f0!2f0!3f0!3m2!1i1024!2i768!4f13.1!3m3!1m2!1s0x34683154f00767ff%3A0xc036e80a53993101!2zMzA05paw56u557ij5paw6LGQ6YSJ5paw6IiI6LevMeiZnw!5e0!3m2!1szh-TW!2stw!4v1444721457247\" width=\"300\" height=\"225\" frameborder=\"0\" style=\"border:0\" allowfullscreen></iframe>\r\n",
      "          \r\n",
      "        </figure>\r\n",
      "      </div>\r\n",
      "      <div class=\"one_third\">\r\n",
      "        <address>\r\n",
      "         ææ°ç§æå¤§å­¸<a href=\"http://webs.must.edu.tw/pagecount/page_list.php?FileName=must_school\" target=\"_blank\"><img src=\"icon.png\"></a><br>\r\n",
      "         Minghsin University of Science and Technology <br>\r\n",
      "         å°åï¼30401æ°ç«¹ç¸£æ°è±éæ°èè·¯1è<br>\r\n",
      "         Address<br>\r\n",
      "         No.1, Xinxing Rd., Xinfeng Hsinchu 30401, Taiwan(R.O.C) <br>\r\n",
      "        <br>\r\n",
      "        <i class=\"fa fa-phone pright-10\"></i> é»è©±/å³çï¼(03)5593142 / <br /> (03)5595142 <br />\r\n",
      "        <i class=\"fa fa-phone pright-10\"></i> TEL/FAXï¼ï¼+886-3-5593142 / +886-3-5595142 <br />\r\n",
      "        <i class=\"fa fa-envelope-o pright-10\"></i> <a href=\"http://www.must.edu.tw/about/contact.html\" title=\"åå¾èæè¯çµ¡é£çµ\">Contact Us</a>\r\n",
      "        </address>\r\n",
      "      </div>\r\n",
      "      <div class=\"one_third\">\r\n",
      "        <p class=\"nospace btmspace-10\">What's News!Watch This!</p>\r\n",
      "\t\t<div class=\"imgl borderedbox\">\r\n",
      "\t\t<img src=\"//qr-official.line.me/L/jsoAW0_CS6.png\" style=\"height:120px; width:120px;\">\r\n",
      "\t\t<a href=\"https://line.me/R/ti/p/%40ywx9970x\"><img style=\"height:40px; width:100px;\" border=\"0\" alt=\"å å",
      "¥å¥½å\" src=\"https://scdn.line-apps.com/n/line_add_friends/btn/zh-Hant.png\"></a>\r\n",
      "\t\t</div>\r\n",
      "        <ul class=\"faico clear\">\r\n",
      "          <li><a class=\"faicon-facebook\" href=\"https://www.facebook.com/mustminghsin\" title=\"ææ°èæ¸ç²çµ²é é¢\"><i class=\"fa fa-facebook\"></i></a></li>\r\n",
      "          <!--<li><a class=\"faicon-rss\" href=\"http://www.must.edu.tw/rss.aspx\"><i class=\"fa fa-rss\"></i></a></li>-->          \r\n",
      "\t\t  <li></li>\t\t  \r\n",
      "        </ul>        \r\n",
      "      </div>\r\n",
      "\t  <div><a href=\"http://www.handicap-free.nat.gov.tw/Applications/Detail?category=20161027164651\" title=\"ç¡éç¤ç¶²ç«\"><img src=\"images/demo/A.jpg\" border=\"0\" width=\"88\" height=\"31\" alt=\"ééA+åªå",
      "ç­ç´ç¡éç¤ç¶²é æª¢æ¸¬\" /></a> </div>\r\n",
      "\t    \r\n",
      "\t  <!-- ################################################################################################ --> \r\n",
      "\t\t\r\n",
      "\t</footer>\r\n",
      "  </div>\r\n",
      "</div>\r\n",
      "<!-- ################################################################################################ --> \r\n",
      "<!-- ################################################################################################ --> \r\n",
      "<!-- ################################################################################################ -->\r\n",
      "<div class=\"wrapper row5\">\r\n",
      "  <a href=\"#_bottom\" accesskey=\"B\" title=\"ç¶²é æä¸æ¹\">:::ä¸æ¹</a>  \r\n",
      "  <div id=\"copyright\" class=\"clear\"> \r\n",
      "\r\n",
      "    <!-- ################################################################################################ -->\r\n",
      "    <p class=\"fl_left\">Copyright &copy; 2015 - All Rights Reserved - <a href=\"#\">Minghsin University of Science and Technology</a></p>\r\n",
      "    <p class=\"fl_right\">Template by <a target=\"_blank\" href=\"http://www.os-templates.com/\" title=\"Free Website Templates\">OS Templates</a></p>\r\n",
      "    \r\n",
      "    <!-- ################################################################################################ --> \r\n",
      "  </div>\r\n",
      "  \r\n",
      "</div>\r\n",
      "<!-- JAVASCRIPTS --> \r\n",
      "<script src=\"layout/scripts/jquery.min.js\"></script> \r\n",
      "<script src=\"layout/scripts/jquery.fitvids.min.js\"></script> \r\n",
      "<script src=\"layout/scripts/jquery.mobilemenu.js\"></script> \r\n",
      "<script src=\"layout/scripts/tabslet/jquery.tabslet.min.js\"></script>\r\n",
      "<script>\r\n",
      "\tfunction myFun1(){\r\n",
      "\t\tvar x=document.getElementById(\"myFun1\");\r\n",
      "\t\tif (x.style.display === \"none\"){\r\n",
      "\t\t\tx.style.display = \"block\";\r\n",
      "\t\t}else{\r\n",
      "\t\t\tx.style.display = \"none\";\r\n",
      "\t\t}\r\n",
      "\t}\r\n",
      "\tfunction myFun2(){\r\n",
      "\t\tvar x=document.getElementById(\"myFun2\");\r\n",
      "\t\tif (x.style.display === \"none\"){\r\n",
      "\t\t\tx.style.display = \"block\";\r\n",
      "\t\t}else{\r\n",
      "\t\t\tx.style.display = \"none\";\r\n",
      "\t\t}\r\n",
      "\t}\r\n",
      "\tfunction myFun3(){\r\n",
      "\t\tvar x=document.getElementById(\"myFun3\");\r\n",
      "\t\tif (x.style.display === \"none\"){\r\n",
      "\t\t\tx.style.display = \"block\";\r\n",
      "\t\t}else{\r\n",
      "\t\t\tx.style.display = \"none\";\r\n",
      "\t\t}\r\n",
      "\t}\r\n",
      "\tfunction myFun4(){\r\n",
      "\t\tvar x=document.getElementById(\"myFun4\");\r\n",
      "\t\tif (x.style.display === \"none\"){\r\n",
      "\t\t\tx.style.display = \"block\";\r\n",
      "\t\t}else{\r\n",
      "\t\t\tx.style.display = \"none\";\r\n",
      "\t\t}\r\n",
      "\t}\r\n",
      "</script>\r\n",
      "</body>\r\n",
      "</html>\n"
     ]
    }
   ],
   "source": [
    "import requests\n",
    "a=requests.get(\"http://www.must.edu.tw/\")\n",
    "print(a.text)"
   ]
  },
  {
   "cell_type": "markdown",
   "metadata": {},
   "source": [
    "# 第二章"
   ]
  },
  {
   "cell_type": "markdown",
   "metadata": {},
   "source": [
    "# 這是註解"
   ]
  },
  {
   "cell_type": "code",
   "execution_count": 1,
   "metadata": {},
   "outputs": [
    {
     "name": "stdout",
     "output_type": "stream",
     "text": [
      "8\n"
     ]
    }
   ],
   "source": [
    "#這是註解\n",
    "a=3\n",
    "b=5\n",
    "print(a+b)"
   ]
  },
  {
   "cell_type": "code",
   "execution_count": 2,
   "metadata": {},
   "outputs": [
    {
     "name": "stdout",
     "output_type": "stream",
     "text": [
      "8\n"
     ]
    }
   ],
   "source": [
    "'''\n",
    "這是第一行註解\n",
    "這是第二行註解\n",
    "'''\n",
    "a=3\n",
    "b=5\n",
    "print(a+b)\n"
   ]
  },
  {
   "cell_type": "code",
   "execution_count": 3,
   "metadata": {},
   "outputs": [
    {
     "name": "stdout",
     "output_type": "stream",
     "text": [
      "10\n",
      "1\n"
     ]
    }
   ],
   "source": [
    "x=1\n",
    "y=10\n",
    "x=x+y\n",
    "y=x-y\n",
    "x=x-y\n",
    "print(x)\n",
    "print(y)"
   ]
  },
  {
   "cell_type": "code",
   "execution_count": 4,
   "metadata": {},
   "outputs": [
    {
     "name": "stdout",
     "output_type": "stream",
     "text": [
      "10\n",
      "1\n"
     ]
    }
   ],
   "source": [
    "x=1\n",
    "y=10\n",
    "x, y = y, x\n",
    "print(x)\n",
    "print(y)\n"
   ]
  },
  {
   "cell_type": "code",
   "execution_count": 5,
   "metadata": {},
   "outputs": [
    {
     "name": "stdout",
     "output_type": "stream",
     "text": [
      "3\n",
      "4\n",
      "5\n"
     ]
    }
   ],
   "source": [
    "x,y,z=3,4,5\n",
    "print(x)\n",
    "print(y)\n",
    "print(z)"
   ]
  },
  {
   "cell_type": "code",
   "execution_count": 6,
   "metadata": {},
   "outputs": [
    {
     "name": "stdout",
     "output_type": "stream",
     "text": [
      "4 8 125\n"
     ]
    }
   ],
   "source": [
    "x,y,z=3,4,5\n",
    "x += 1\n",
    "y *= 2\n",
    "z **= 3\n",
    "print(x,y,z)"
   ]
  },
  {
   "cell_type": "markdown",
   "metadata": {},
   "source": [
    "#  邊長為3,4,5的三角形，其面積大小為何?"
   ]
  },
  {
   "cell_type": "code",
   "execution_count": 7,
   "metadata": {},
   "outputs": [
    {
     "name": "stdout",
     "output_type": "stream",
     "text": [
      "3\n"
     ]
    }
   ],
   "source": [
    "import math\n",
    "d=math.sqrt(((3+4+5)/2)*(((3+4+5)/2)-3)*(((3+4+5)/2)-4)*(((3+4+5)/2)-5))\n",
    "print(a)\n"
   ]
  },
  {
   "cell_type": "code",
   "execution_count": 10,
   "metadata": {},
   "outputs": [
    {
     "name": "stdout",
     "output_type": "stream",
     "text": [
      "6.0\n"
     ]
    }
   ],
   "source": [
    "import math\n",
    "a,b,c=3,4,5\n",
    "s=(a+b+c)/2\n",
    "d=math.sqrt(s*(s-a)*(s-b)*(s-c))\n",
    "print(d)"
   ]
  },
  {
   "cell_type": "markdown",
   "metadata": {},
   "source": [
    "# python動態類型變數，使用前不需要宣告資料型態"
   ]
  },
  {
   "cell_type": "code",
   "execution_count": 12,
   "metadata": {},
   "outputs": [
    {
     "name": "stdout",
     "output_type": "stream",
     "text": [
      "<class 'int'>\n"
     ]
    },
    {
     "data": {
      "text/plain": [
       "140706926482160"
      ]
     },
     "execution_count": 12,
     "metadata": {},
     "output_type": "execute_result"
    }
   ],
   "source": [
    "x=254\n",
    "print(type(x))\n",
    "id(x)"
   ]
  },
  {
   "cell_type": "code",
   "execution_count": 13,
   "metadata": {},
   "outputs": [
    {
     "name": "stdout",
     "output_type": "stream",
     "text": [
      "<class 'str'>\n"
     ]
    },
    {
     "data": {
      "text/plain": [
       "2108216471768"
      ]
     },
     "execution_count": 13,
     "metadata": {},
     "output_type": "execute_result"
    }
   ],
   "source": [
    "x='write'\n",
    "print(type(x))\n",
    "id(x)"
   ]
  },
  {
   "cell_type": "markdown",
   "metadata": {},
   "source": [
    "# 半徑為4.5，高度為4.5的圓錐體面積為何?"
   ]
  },
  {
   "cell_type": "code",
   "execution_count": 14,
   "metadata": {},
   "outputs": [
    {
     "name": "stdout",
     "output_type": "stream",
     "text": [
      "95.42587685278995\n"
     ]
    }
   ],
   "source": [
    "import math\n",
    "print((4.5*4.5*math.pi*4.5)/3)"
   ]
  },
  {
   "cell_type": "code",
   "execution_count": 15,
   "metadata": {},
   "outputs": [
    {
     "name": "stdout",
     "output_type": "stream",
     "text": [
      "5.333333333333333\n",
      "5\n",
      "1\n"
     ]
    }
   ],
   "source": [
    "x=16\n",
    "y=3\n",
    "print(x/y)\n",
    "print(x//y) #求商\n",
    "print(x%y)  #求餘數"
   ]
  },
  {
   "cell_type": "markdown",
   "metadata": {},
   "source": [
    "# 關係運算"
   ]
  },
  {
   "cell_type": "code",
   "execution_count": 16,
   "metadata": {},
   "outputs": [
    {
     "name": "stdout",
     "output_type": "stream",
     "text": [
      "True\n",
      "False\n",
      "20\n"
     ]
    }
   ],
   "source": [
    "x=10\n",
    "print(20==20)\n",
    "y=20\n",
    "print(x==y)\n",
    "x=y\n",
    "print(x)"
   ]
  },
  {
   "cell_type": "markdown",
   "metadata": {},
   "source": [
    "# 級聯比較"
   ]
  },
  {
   "cell_type": "code",
   "execution_count": 17,
   "metadata": {},
   "outputs": [
    {
     "name": "stdout",
     "output_type": "stream",
     "text": [
      "True\n"
     ]
    }
   ],
   "source": [
    "a,b,c=10,20,30\n",
    "print(a<=b<=c)"
   ]
  },
  {
   "cell_type": "code",
   "execution_count": 18,
   "metadata": {},
   "outputs": [
    {
     "name": "stdout",
     "output_type": "stream",
     "text": [
      "0.0015926269999999576\n"
     ]
    }
   ],
   "source": [
    "x=3.141592627\n",
    "print(x-3.14)"
   ]
  },
  {
   "cell_type": "markdown",
   "metadata": {},
   "source": [
    "# 邏輯運算 以閏年為例"
   ]
  },
  {
   "cell_type": "code",
   "execution_count": 19,
   "metadata": {},
   "outputs": [
    {
     "name": "stdout",
     "output_type": "stream",
     "text": [
      "False\n",
      "True\n",
      "True\n"
     ]
    }
   ],
   "source": [
    "y=2010\n",
    "print(y%4==0 and y%100!=0 or y%400==0)\n",
    "y=2012\n",
    "print(y%4==0 and y%100!=0 or y%400==0)\n",
    "y=2000\n",
    "print(y%4==0 and y%100!=0 or y%400==0)"
   ]
  },
  {
   "cell_type": "markdown",
   "metadata": {},
   "source": [
    "# 型態轉換"
   ]
  },
  {
   "cell_type": "code",
   "execution_count": 20,
   "metadata": {},
   "outputs": [
    {
     "name": "stdout",
     "output_type": "stream",
     "text": [
      "12.5\n",
      "123\n",
      "123.0\n",
      "123\n",
      "The value of x is 32.5 and y is 40000\n",
      "The value of x is 32.5 and y is 40000\n"
     ]
    }
   ],
   "source": [
    "x=12\n",
    "y=float(x)+0.5\n",
    "print(y)\n",
    "print(int('123'))\n",
    "print(float('123'))\n",
    "print(int(123.333))\n",
    "x=10*3.25 #32.5\n",
    "y=200*200 #40000\n",
    "s='The value of x is ' + str(x) + ' and y is ' + str(y)\n",
    "s1='The value of x is ' + repr(x) + ' and y is ' + repr(y)\n",
    "print(s)\n",
    "print(s1)"
   ]
  },
  {
   "cell_type": "markdown",
   "metadata": {},
   "source": [
    "# 非內置模組"
   ]
  },
  {
   "cell_type": "code",
   "execution_count": 21,
   "metadata": {},
   "outputs": [
    {
     "name": "stdout",
     "output_type": "stream",
     "text": [
      "3.141592653589793\n",
      "8.0\n",
      "26.423892221536985\n",
      "5.0\n"
     ]
    }
   ],
   "source": [
    "import math\n",
    "print(math.pi)\n",
    "print(math.pow(2,3))\n",
    "print(8.3*10.58*math.sin(37.0/180*math.pi)/2)\n",
    "print(math.sqrt(25))"
   ]
  },
  {
   "cell_type": "markdown",
   "metadata": {},
   "source": [
    "# 算圓面積"
   ]
  },
  {
   "cell_type": "code",
   "execution_count": null,
   "metadata": {},
   "outputs": [],
   "source": [
    "import math\n",
    "r=input(\"請輸入半徑:\")\n",
    "area=float(r) * float(r) * math.pi\n",
    "print(\"圓面積為:\" , area)"
   ]
  },
  {
   "cell_type": "markdown",
   "metadata": {},
   "source": [
    "# 第三章"
   ]
  },
  {
   "cell_type": "code",
   "execution_count": null,
   "metadata": {},
   "outputs": [],
   "source": [
    "a=3\n",
    "b=4\n",
    "if a <= b:\n",
    "    print(\"b是比較大的數\")\n",
    "else:\n",
    "    print(\"a是比較大的數\")"
   ]
  },
  {
   "cell_type": "code",
   "execution_count": null,
   "metadata": {},
   "outputs": [],
   "source": [
    "sum=0\n",
    "for count in range(1, 11,1):\n",
    "    sum += count\n",
    "print(sum)"
   ]
  },
  {
   "cell_type": "code",
   "execution_count": null,
   "metadata": {},
   "outputs": [],
   "source": [
    "sum = 0 #儲存加總結果\n",
    "for count in range(11): #數值1~10\n",
    "   sum += count #將數值累加\n",
    "print('1+2+3+...+10累加結果', sum)"
   ]
  },
  {
   "cell_type": "code",
   "execution_count": null,
   "metadata": {},
   "outputs": [],
   "source": [
    "mylist=\"for statement\"\n",
    "for word in mylist:\n",
    "    print(word)\n",
    "else:\n",
    "    print(\"end list\")"
   ]
  },
  {
   "cell_type": "markdown",
   "metadata": {},
   "source": [
    "# 雞兔同籠。若共有35個頭，94隻腳，問共有幾隻雞?幾隻兔?"
   ]
  },
  {
   "cell_type": "code",
   "execution_count": null,
   "metadata": {},
   "outputs": [],
   "source": [
    "for chicken in range(0, 35):\n",
    "    rabbit=35-chicken\n",
    "    if 2*chicken+4*rabbit==94:\n",
    "        print(\"雞有\",chicken,\"隻,兔子有\",rabbit,\"隻\")\n",
    "        break\n",
    "else:\n",
    "    print(\"無解\")\n"
   ]
  },
  {
   "cell_type": "markdown",
   "metadata": {},
   "source": [
    "# while迴圈"
   ]
  },
  {
   "cell_type": "code",
   "execution_count": null,
   "metadata": {},
   "outputs": [],
   "source": [
    "sum = 0 #儲存加總結果\n",
    "count = 1 #計數器\n",
    "while count <= 10:  \n",
    "   sum += count #將數值累加\n",
    "   count += 1\n",
    "print(\"1+2+3+...+ 10 累加結果\", sum) #輸出累加結果\n"
   ]
  },
  {
   "cell_type": "markdown",
   "metadata": {},
   "source": [
    "# 本金10000元，年利率1.9%，請問多久銀行存款會加倍"
   ]
  },
  {
   "cell_type": "code",
   "execution_count": null,
   "metadata": {},
   "outputs": [],
   "source": [
    "x=10000\n",
    "years=0\n",
    "while x <= 20000:\n",
    "    years+=1\n",
    "    x=x*1.019\n",
    "print(str(years),\"年以後，存款加倍，為\",int(x),\"元\")"
   ]
  },
  {
   "cell_type": "markdown",
   "metadata": {},
   "source": [
    "# 猜數字"
   ]
  },
  {
   "cell_type": "code",
   "execution_count": null,
   "metadata": {},
   "outputs": [],
   "source": [
    "number=11\n",
    "while True:\n",
    "    guess = int(input('輸入1~100之間的數字 --> '))\n",
    "    if guess == number:\n",
    "        print('你猜對了，數字是：', number)\n",
    "        break\n",
    "    else:\n",
    "        print(\"答錯了\")\n"
   ]
  },
  {
   "cell_type": "markdown",
   "metadata": {},
   "source": [
    "# 第四章"
   ]
  },
  {
   "cell_type": "markdown",
   "metadata": {},
   "source": [
    "# list串列"
   ]
  },
  {
   "cell_type": "code",
   "execution_count": null,
   "metadata": {},
   "outputs": [],
   "source": [
    "my_list0 = []\n",
    "my_list1 = list()\n",
    "my_list2 = ['python', 'js', 'SQL'] \n",
    "print(my_list2[0])\n",
    "print(my_list2[1])\n",
    "print(my_list2[2])"
   ]
  },
  {
   "cell_type": "code",
   "execution_count": null,
   "metadata": {},
   "outputs": [],
   "source": [
    "#附加於最後\n",
    "my_list2 = ['python', 'js', 'SQL'] \n",
    "my_list2.append(\"java\")\n",
    "my_list2[3]\n",
    "print(len(my_list2))\n",
    "print(len(my_list2[0]))"
   ]
  },
  {
   "cell_type": "code",
   "execution_count": null,
   "metadata": {},
   "outputs": [],
   "source": [
    "#新增至特定位置\n",
    "languages = ['python', 'js', 'go']\n",
    "languages.insert(0, 'java')\n",
    "print(languages)"
   ]
  },
  {
   "cell_type": "code",
   "execution_count": null,
   "metadata": {},
   "outputs": [],
   "source": [
    "#刪除\n",
    "languages = ['python', 'js', 'go']\n",
    "del languages[-1] \n",
    "print(languages)"
   ]
  },
  {
   "cell_type": "code",
   "execution_count": null,
   "metadata": {},
   "outputs": [],
   "source": [
    "#長度\n",
    "print(len(['python', 'js', 'go']) )"
   ]
  },
  {
   "cell_type": "code",
   "execution_count": null,
   "metadata": {},
   "outputs": [],
   "source": [
    "#檢查是否存在\n",
    "print('java' in ['python', 'js', 'go'])"
   ]
  },
  {
   "cell_type": "code",
   "execution_count": null,
   "metadata": {},
   "outputs": [],
   "source": [
    "#串列重複\n",
    "a=[1,2]\n",
    "print(a*5)"
   ]
  },
  {
   "cell_type": "code",
   "execution_count": null,
   "metadata": {},
   "outputs": [],
   "source": [
    "#串列取值\n",
    "a=[1,2,3,4,5,6,7,8,9]\n",
    "b=a[0:3]   #範圍取值\n",
    "print(b)\n",
    "c=a[0:9:2]   #間隔取值\n",
    "print(c)\n",
    "del a[7:9]  #刪除串列某範圍的值\n",
    "print(a)\n",
    "print(min(a)) #最小值\n",
    "print(max(a)) #最大值\n",
    "print(a.index(1)) #1出現的索引值\n",
    "print(a.count(1)) #1出現的次數\n",
    "a.reverse()  #串列反轉\n",
    "print(a)\n",
    "a.sort()   #串列排序\n",
    "print(a)"
   ]
  },
  {
   "cell_type": "code",
   "execution_count": null,
   "metadata": {},
   "outputs": [],
   "source": [
    "a_list = ['python', 'js', 'go']\n",
    "a_tuple = tuple(a_list) \n",
    "print(a_tuple)\n",
    "print(a_tuple[0])"
   ]
  },
  {
   "cell_type": "code",
   "execution_count": null,
   "metadata": {},
   "outputs": [],
   "source": [
    "languages = {}\n",
    "languages = {'name':'python','version':'3.5'} \n",
    "print(languages['name']) \n",
    "print(languages)\n",
    "print(languages.keys())\n",
    "print(languages.values())\n",
    "print(languages.items()) \n",
    "print('name' in languages )\n",
    "    "
   ]
  },
  {
   "cell_type": "code",
   "execution_count": null,
   "metadata": {},
   "outputs": [],
   "source": [
    "a = {'name':'python','version':'3.5'} \n",
    "b=a.copy()\n",
    "print(b)\n",
    "b.clear()\n",
    "print(b)\n",
    "print(a.get('name'))\n",
    "a.update({'name':'java'})\n",
    "print(a)"
   ]
  },
  {
   "cell_type": "markdown",
   "metadata": {},
   "source": [
    "# 第五章"
   ]
  },
  {
   "cell_type": "code",
   "execution_count": null,
   "metadata": {},
   "outputs": [],
   "source": [
    "a_list=[1,2,3,4,5]\n",
    "print(a_list*3)"
   ]
  },
  {
   "cell_type": "markdown",
   "metadata": {},
   "source": [
    "# numpy套件的ndarray型態，提供element-wise的操作 "
   ]
  },
  {
   "cell_type": "code",
   "execution_count": null,
   "metadata": {},
   "outputs": [],
   "source": [
    "import numpy as np\n",
    "a_ndarray=np.array([1,2,3,4,5])\n",
    "print(a_ndarray*3)"
   ]
  },
  {
   "cell_type": "code",
   "execution_count": null,
   "metadata": {},
   "outputs": [],
   "source": [
    "print(type(a_ndarray))\n",
    "print(a_ndarray.ndim) #ndarray的維度\n",
    "print(a_ndarray.shape) #ndarray的shape\n",
    "print(a_ndarray.dtype) #ndarray的資料類型"
   ]
  },
  {
   "cell_type": "code",
   "execution_count": null,
   "metadata": {},
   "outputs": [],
   "source": [
    "print(np.zeros(6))  # 六個元素均為零的 1d array\n",
    "print(np.zeros((2, 6))) # 十二個元素均為零的 2d array\n",
    "print(np.empty((2, 6, 2))) # 二十四個元素均為未初始化的值\n",
    "print(np.arange(11)) # 十一個元素為 0 到 10 的 1d array"
   ]
  },
  {
   "cell_type": "code",
   "execution_count": null,
   "metadata": {},
   "outputs": [],
   "source": [
    "my_array = np.arange(10)\n",
    "print(my_array)\n",
    "print(my_array[0])\n",
    "print(my_array[0:5]) #取0,1,2,3,4位置之值"
   ]
  },
  {
   "cell_type": "markdown",
   "metadata": {},
   "source": [
    "# 二維ndarray取值"
   ]
  },
  {
   "cell_type": "code",
   "execution_count": null,
   "metadata": {},
   "outputs": [],
   "source": [
    "my_2d_array = np.array([np.arange(0, 5), np.arange(5, 10)])\n",
    "print(my_2d_array)\n",
    "print(my_2d_array[1, :]) # 第二列\n",
    "print(my_2d_array[:, 1]) # 第二欄\n",
    "print(my_2d_array[1, 1]) # 第二列第二欄的元素\n"
   ]
  },
  {
   "cell_type": "code",
   "execution_count": null,
   "metadata": {},
   "outputs": [],
   "source": [
    "#假設有六個組別\"Modern Web\", \"DevOps\", \"Cloud\", \"Big Data\", \"Security\", \"自我挑戰組\"，\n",
    "#其參加人數分別為56, 8, 19, 14, 6, 71人\n",
    "ironmen = [56, 8, 19, 14, 6, 71]\n",
    "groups = [\"Modern Web\", \"DevOps\", \"Cloud\", \"Big Data\", \"Security\", \"自我挑戰組\"]\n",
    "ironmen_array = np.array(ironmen)\n",
    "groups_array = np.array(groups)\n",
    "print(ironmen_array)\n",
    "print(groups_array)"
   ]
  },
  {
   "cell_type": "code",
   "execution_count": null,
   "metadata": {},
   "outputs": [],
   "source": [
    "# 用人數去篩選組別\n",
    "print(ironmen_array >= 10) # 布林值陣列\n",
    "print(groups_array[ironmen_array >= 10]) # 鐵人數大於 10 的組別\n",
    "# 用組別去篩選人數\n",
    "print(groups_array != \"自我挑戰組\") # 布林值陣列\n",
    "print(ironmen_array[groups_array != \"自我挑戰組\"]) # 除了自我挑戰組以外的鐵人數\n"
   ]
  },
  {
   "cell_type": "markdown",
   "metadata": {},
   "source": [
    "# Ndarray轉置"
   ]
  },
  {
   "cell_type": "code",
   "execution_count": null,
   "metadata": {},
   "outputs": [],
   "source": [
    "my_1d_array = np.arange(10)\n",
    "print(my_1d_array)\n",
    "my_2d_array = my_1d_array.reshape((2, 5)) #更改array的外型\n",
    "print(my_2d_array)\n",
    "print(my_2d_array.T)"
   ]
  },
  {
   "cell_type": "code",
   "execution_count": null,
   "metadata": {},
   "outputs": [],
   "source": [
    "print(np.arange(24).reshape(4,6))"
   ]
  },
  {
   "cell_type": "markdown",
   "metadata": {},
   "source": [
    "# ndarray nan(空值) 與 inf(無窮大)"
   ]
  },
  {
   "cell_type": "code",
   "execution_count": null,
   "metadata": {},
   "outputs": [],
   "source": [
    "nan_array = np.array([56, 8, 19, 14, 6, np.nan])\n",
    "print(nan_array)"
   ]
  },
  {
   "cell_type": "code",
   "execution_count": null,
   "metadata": {},
   "outputs": [],
   "source": [
    "normal_samples = np.random.normal(size = 10) \n",
    "# 生成 10 組標準常態分配（平均值為 0，標準差為 1 的常態分配）隨機變數\n",
    "uniform_samples = np.random.uniform(size = 10) \n",
    "# 生成 10 組介於 0 與 1 之間均勻分配隨機變數\n",
    "\n",
    "print(normal_samples)\n",
    "print(\"---\") # 分隔線\n",
    "print(uniform_samples)"
   ]
  },
  {
   "cell_type": "markdown",
   "metadata": {},
   "source": [
    "# 第六章"
   ]
  },
  {
   "cell_type": "code",
   "execution_count": null,
   "metadata": {},
   "outputs": [],
   "source": [
    "import pandas as pd\n",
    "\n",
    "groups = [\"Modern Web\", \"DevOps\", \"Cloud\", \"Big Data\", \"Security\", \"自我挑戰組\"]\n",
    "ironmen = [59, 9, 19, 14, 6, 77]\n",
    "ironmen_dict = {\n",
    "                \"groups\": groups,\n",
    "                \"ironmen\": ironmen\n",
    "}\n",
    "ironmen_df = pd.DataFrame(ironmen_dict)\n",
    "ironmen_df\n",
    "\n"
   ]
  },
  {
   "cell_type": "code",
   "execution_count": null,
   "metadata": {},
   "outputs": [],
   "source": [
    "print(ironmen_df.ndim)\n",
    "print(\"---\") # 分隔線\n",
    "print(ironmen_df.shape)\n",
    "print(\"---\") # 分隔線\n",
    "print(ironmen_df.dtypes)\n"
   ]
  },
  {
   "cell_type": "code",
   "execution_count": null,
   "metadata": {},
   "outputs": [],
   "source": [
    "print(ironmen_df.sum()) # 計算總鐵人數\n",
    "print(ironmen_df.mean()) # 計算平均鐵人數\n",
    "print(ironmen_df.median()) # 計算中位數\n",
    "print(ironmen_df.describe()) # 描述統計\n"
   ]
  },
  {
   "cell_type": "code",
   "execution_count": null,
   "metadata": {},
   "outputs": [],
   "source": [
    "import numpy as np\n",
    "import pandas as pd\n",
    "groups = [\"Modern Web\", \"DevOps\", np.nan, \"Big Data\", \"Security\", \"自我挑戰組\"]\n",
    "ironmen = [59, 9, 19, 14, 6, np.nan]\n",
    "ironmen_dict = {\n",
    "                \"groups\": groups,\n",
    "                \"ironmen\": ironmen\n",
    "}\n",
    "# 建立 data frame\n",
    "ironmen_df = pd.DataFrame(ironmen_dict)\n",
    "print(ironmen_df.loc[:, \"groups\"].isnull()) # 判斷哪些組的組名是遺失值\n",
    "print(ironmen_df.loc[:, \"ironmen\"].notnull()) # 判斷哪些組的鐵人數不是遺失值\n"
   ]
  },
  {
   "cell_type": "code",
   "execution_count": null,
   "metadata": {},
   "outputs": [],
   "source": [
    "ironmen_df_na_dropped = ironmen_df.dropna() # 有遺失值的觀測值都刪除\n",
    "print(ironmen_df_na_dropped)\n",
    "print(\"---\") # 分隔線\n",
    "ironmen_df_na_filled = ironmen_df.fillna(0) # 有遺失值的觀測值填補 0\n",
    "print(ironmen_df_na_filled)\n",
    "print(\"---\") # 分隔線\n",
    "ironmen_df_na_filled = ironmen_df.fillna({\"groups\": \"Cloud\", \"ironmen\": 71}) # 依欄位填補遺失值\n",
    "print(ironmen_df_na_filled)\n"
   ]
  },
  {
   "cell_type": "code",
   "execution_count": null,
   "metadata": {},
   "outputs": [],
   "source": [
    "import pandas as pd\n",
    "\n",
    "groups = [\"Modern Web\", \"DevOps\", \"Cloud\", \"Big Data\", \"Security\", \"自我挑戰組\"]\n",
    "ironmen = [59, 9, 19, 14, 6, 77]\n",
    "\n",
    "# 建立 data frame\n",
    "ironmen_df = pd.DataFrame(ironmen, columns = [\"ironmen\"], index = groups)\n",
    "\n",
    "# 用索引值排序\n",
    "ironmen_df.sort_index()"
   ]
  },
  {
   "cell_type": "code",
   "execution_count": null,
   "metadata": {},
   "outputs": [],
   "source": [
    "import pandas as pd\n",
    "\n",
    "groups = [\"Modern Web\", \"DevOps\", \"Cloud\", \"Big Data\", \"Security\", \"自我挑戰組\"]\n",
    "ironmen = [59, 9, 19, 14, 6, 77]\n",
    "\n",
    "# 建立 data frame\n",
    "ironmen_df = pd.DataFrame(ironmen, columns = [\"ironmen\"], index = groups)\n",
    "\n",
    "# 用數值排序\n",
    "ironmen_df.sort_values(by = \"ironmen\")"
   ]
  },
  {
   "cell_type": "markdown",
   "metadata": {},
   "source": [
    "# 第七章"
   ]
  },
  {
   "cell_type": "markdown",
   "metadata": {},
   "source": [
    "# 雲端載入"
   ]
  },
  {
   "cell_type": "code",
   "execution_count": null,
   "metadata": {},
   "outputs": [],
   "source": [
    "import pandas as pd\n",
    "\n",
    "url = \"https://storage.googleapis.com/2017_ithome_ironman/data/iris.csv\" # 在雲端上儲存了一份 csv 檔案\n",
    "iris_df = pd.read_csv(url)\n",
    "iris_df.head()"
   ]
  },
  {
   "cell_type": "markdown",
   "metadata": {},
   "source": [
    "# 本地端載入"
   ]
  },
  {
   "cell_type": "code",
   "execution_count": null,
   "metadata": {},
   "outputs": [],
   "source": [
    "import pandas as pd\n",
    "\n",
    "iris_df = pd.read_csv('iris.csv')\n",
    "iris_df.head()"
   ]
  },
  {
   "cell_type": "markdown",
   "metadata": {},
   "source": [
    "# excel檔案載入"
   ]
  },
  {
   "cell_type": "code",
   "execution_count": null,
   "metadata": {},
   "outputs": [],
   "source": [
    "import pandas as pd\n",
    "\n",
    "url = \"https://storage.googleapis.com/2017_ithome_ironman/data/iris.xlsx\" # 在雲端上儲存了一份 Excel 試算表\n",
    "iris_xlsx_df = pd.read_excel(url)\n",
    "iris_xlsx_df.head()"
   ]
  },
  {
   "cell_type": "markdown",
   "metadata": {},
   "source": [
    "# 第八章"
   ]
  },
  {
   "cell_type": "code",
   "execution_count": null,
   "metadata": {},
   "outputs": [],
   "source": [
    "import math # 要使用 pi 得引入套件 math\n",
    "\n",
    "# 定義自訂函數\n",
    "def circle_calculate(radius, area = True):\n",
    "    '依據輸入的半徑與 area 參數計算圓形的面積或周長' # 單行的 docstring\n",
    "    circle_area = math.pi * radius**2\n",
    "    circle_circum = 2 * math.pi * radius\n",
    "    if area == True:\n",
    "        return circle_area\n",
    "    else:\n",
    "        return circle_circum\n",
    "\n",
    "# 呼叫自訂函數\n",
    "\n",
    "print(circle_calculate(10)) # 預設回傳面積\n",
    "print(circle_calculate(10, area = False)) # 指定參數回傳周長"
   ]
  },
  {
   "cell_type": "code",
   "execution_count": null,
   "metadata": {},
   "outputs": [],
   "source": [
    "import random # 呼叫函數時使用隨機整數\n",
    "\n",
    "# 定義自訂函數\n",
    "def exchange_sort(input_list, reverse = False):\n",
    "    ''' # 多行的 docstrings\n",
    "    依據輸入的 list 與 reverse 參數排序 list 中的數字後回傳。\n",
    "    reverse 參數預設為 False 遞增排序，可以修改為 True 遞減排序。\n",
    "    '''\n",
    "    input_list_cloned = input_list\n",
    "    # 遞增排序\n",
    "    if reverse == False:\n",
    "        for i in range(0, len(input_list) - 1):\n",
    "            for j in range(i+1, len(input_list)):\n",
    "                # 如果前一個數字比後一個數字大則交換位置\n",
    "                if input_list_cloned[i] > input_list_cloned[j]:\n",
    "                    temp = input_list_cloned[i]\n",
    "                    input_list_cloned[i] = input_list_cloned[j]\n",
    "                    input_list_cloned[j] = temp\n",
    "    # 遞減排序\n",
    "    else:\n",
    "        for i in range(0, len(input_list) - 1):\n",
    "            for j in range(i+1, len(input_list)):\n",
    "                # 如果前一個數字比後一個數字小則交換位置\n",
    "                if input_list_cloned[i] < input_list_cloned[j]:\n",
    "                    temp = input_list_cloned[i]\n",
    "                    input_list_cloned[i] = input_list_cloned[j]\n",
    "                    input_list_cloned[j] = temp\n",
    "    return input_list_cloned\n",
    "\n",
    "# 呼叫自訂函數\n",
    "my_vector = random.sample(range(0, 100), 10) # 產生一組隨機數\n",
    "print(my_vector) # 看看未排序前\n",
    "print(exchange_sort(my_vector)) # 預設遞增排序\n",
    "print(exchange_sort(my_vector, reverse = True)) # 指定參數遞減排序"
   ]
  },
  {
   "cell_type": "markdown",
   "metadata": {},
   "source": [
    "# 定義自訂函數"
   ]
  },
  {
   "cell_type": "code",
   "execution_count": null,
   "metadata": {},
   "outputs": [],
   "source": [
    "def ironmen_stats(ironmen_list):\n",
    "    max_ironmen = max(ironmen_list)\n",
    "    min_ironmen = min(ironmen_list)\n",
    "    ttl_groups = len(ironmen_list)\n",
    "    ttl_ironmen = sum(ironmen_list)\n",
    "    return max_ironmen, min_ironmen, ttl_groups, ttl_ironmen\n",
    "    \n",
    "# 呼叫自訂函數\n",
    "ironmen = [50, 8, 16, 12, 6, 62]\n",
    "max_ironmen, min_ironmen, ttl_groups, ttl_ironmen = ironmen_stats(ironmen)\n",
    "print(\"最多：\", max_ironmen, \"\\n\", \"最少：\", min_ironmen, \"\\n\", \"總組數：\", ttl_groups, \"\\n\", \"總鐵人數：\", ttl_ironmen)"
   ]
  },
  {
   "cell_type": "markdown",
   "metadata": {},
   "source": [
    "# 傳統的def函數"
   ]
  },
  {
   "cell_type": "code",
   "execution_count": null,
   "metadata": {},
   "outputs": [],
   "source": [
    "def max(m, n):\n",
    "    return m if m > n else n\n",
    "\n",
    "print(max(10, 3))  # 顯示 10"
   ]
  },
  {
   "cell_type": "code",
   "execution_count": null,
   "metadata": {},
   "outputs": [],
   "source": [
    "#lamda寫法\n",
    "max=lambda x,y: x if x>y else n\n",
    "print(max(10,3))"
   ]
  },
  {
   "cell_type": "code",
   "execution_count": null,
   "metadata": {},
   "outputs": [],
   "source": [
    "ironmen = [50, 8, 16, 12, 6, 62]\n",
    "ironmen_articles = list(map(lambda x : x * 30, ironmen))\n",
    "print(ironmen_articles)"
   ]
  },
  {
   "cell_type": "markdown",
   "metadata": {},
   "source": [
    "# 定義自訂函數"
   ]
  },
  {
   "cell_type": "code",
   "execution_count": null,
   "metadata": {},
   "outputs": [],
   "source": [
    "def my_square(input_number):\n",
    "    '計算平方數且有錯誤處理的函數'\n",
    "    try:\n",
    "        ans = input_number**2\n",
    "        return ans\n",
    "    except:\n",
    "        print(\"請輸入數值。\")\n",
    "\n",
    "# 呼叫自訂函數\n",
    "print(my_square(3))\n",
    "my_square('ironmen')"
   ]
  },
  {
   "cell_type": "code",
   "execution_count": null,
   "metadata": {},
   "outputs": [],
   "source": [
    "# 定義自訂函數\n",
    "def ironmen_list(*args):\n",
    "    '列出各組參賽鐵人數'\n",
    "    for ironman in args:\n",
    "        print(ironman)\n",
    "\n",
    "# 呼叫自訂函數\n",
    "ironmen_list(51, 8, 18, 13, 6) # 不含自我挑戰組\n",
    "print(\"---\")\n",
    "ironmen_list(51, 8, 18, 13, 6, 64) # 含自我挑戰組"
   ]
  },
  {
   "cell_type": "markdown",
   "metadata": {},
   "source": [
    "# 第九章"
   ]
  },
  {
   "cell_type": "code",
   "execution_count": null,
   "metadata": {},
   "outputs": [],
   "source": [
    "class Ironmen:\n",
    "    '''這是一個叫做 Ironmen 的類別''' # Doc string\n",
    "    def __init__(self, group, participants):\n",
    "        self.group = group\n",
    "        self.participants = participants\n",
    "\n",
    "# 根據 Ironmen 類別建立一個物件 modern_web\n",
    "modern_web = Ironmen(\"Modern Web\", 54)\n",
    "print(modern_web)\n",
    "# 印出 modern_web 的兩個屬性\n",
    "print(modern_web.group)\n",
    "print(modern_web.participants)\n",
    "\n",
    "# 印出 modern_web 的類別 doc string\n",
    "print(modern_web.__doc__)"
   ]
  },
  {
   "cell_type": "code",
   "execution_count": null,
   "metadata": {},
   "outputs": [],
   "source": [
    "class Ironmen:\n",
    "    '''這是一個叫做 Ironmen 的類別''' # Doc string\n",
    "    def __init__(self, group, participants):\n",
    "        self.group = group\n",
    "        self.participants = participants\n",
    "    \n",
    "    def print_info(self):\n",
    "        print(self.group, \"組有\", self.participants, \"位鐵人參賽！\")\n",
    "\n",
    "# 根據 Ironmen 類別建立一個物件 modern_web\n",
    "modern_web = Ironmen(\"Modern Web\", 54)\n",
    "\n",
    "# 根據 Ironmen 類別建立一個物件 dev_ops\n",
    "dev_ops = Ironmen(\"DevOps\", 8)\n",
    "\n",
    "# 使用 modern_web 的 print_info() 方法\n",
    "modern_web.print_info()\n",
    "\n",
    "# 使用 dev_ops 的 print_info() 方法\n",
    "dev_ops.print_info()"
   ]
  },
  {
   "cell_type": "markdown",
   "metadata": {},
   "source": [
    "# 繼承"
   ]
  },
  {
   "cell_type": "code",
   "execution_count": null,
   "metadata": {},
   "outputs": [],
   "source": [
    "class Ironmen:\n",
    "    '''這是一個叫做 Ironmen 的類別''' # Doc string\n",
    "    def __init__(self, group, participants):\n",
    "        self.group = group\n",
    "        self.participants = participants\n",
    "    \n",
    "    def print_info(self):\n",
    "        print(self.group, \"組有\", self.participants, \"位鐵人參賽！\")\n",
    "\n",
    "# Articles 類別繼承 Ironmen 類別\n",
    "class Articles(Ironmen):\n",
    "    '''\n",
    "    這是一個叫做 Articles 的類別。\n",
    "    Articles 繼承 Ironmen 類別，她新增了一個 print_articles() 方法\n",
    "    '''\n",
    "    def print_articles(self):\n",
    "        print(self.group, \"組預計會有\", self.participants * 30, \"篇文章！\")\n",
    "\n",
    "# 根據 Articles 類別建立一個物件 modern_web\n",
    "modern_web = Articles(\"Modern Web\", 54)\n",
    "\n",
    "# 使用 modern_web 的 print_articles() 方法\n",
    "modern_web.print_articles()\n",
    "\n",
    "# 檢查 modern_web 是否還擁有 print_info() 方法\n",
    "modern_web.print_info()"
   ]
  },
  {
   "cell_type": "code",
   "execution_count": null,
   "metadata": {},
   "outputs": [],
   "source": [
    "#在繼承時使用 super()\n",
    "#可以根據原本的屬性或方法之上建立新的屬性或方法。\n",
    "\n",
    "class OnlyGroup:\n",
    "    '''這是一個叫做 OnlyGroup 的類別''' # Doc string\n",
    "    def __init__(self, group):\n",
    "        self.group = group\n",
    "\n",
    "# Ironmen 類別繼承 OnlyGroup 類別\n",
    "class Ironmen(OnlyGroup):\n",
    "    '''這是一個叫做 Ironmen 的類別''' # Doc string\n",
    "    def __init__(self, group, participants):\n",
    "        super().__init__(group)\n",
    "        self.participants = participants\n",
    "\n",
    "# 根據 Ironmen 類別建立一個物件 modern_web\n",
    "modern_web = Ironmen(\"Modern Web\", 54)\n",
    "\n",
    "# 印出 modern_web 的兩個屬性\n",
    "print(modern_web.group)\n",
    "print(modern_web.participants)"
   ]
  },
  {
   "cell_type": "code",
   "execution_count": null,
   "metadata": {},
   "outputs": [],
   "source": []
  }
 ],
 "metadata": {
  "kernelspec": {
   "display_name": "Python 3",
   "language": "python",
   "name": "python3"
  },
  "language_info": {
   "codemirror_mode": {
    "name": "ipython",
    "version": 3
   },
   "file_extension": ".py",
   "mimetype": "text/x-python",
   "name": "python",
   "nbconvert_exporter": "python",
   "pygments_lexer": "ipython3",
   "version": "3.7.1"
  }
 },
 "nbformat": 4,
 "nbformat_minor": 2
}
